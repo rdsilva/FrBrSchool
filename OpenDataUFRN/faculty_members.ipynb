{
 "cells": [
  {
   "cell_type": "markdown",
   "metadata": {},
   "source": [
    "## Motivation\n",
    "\n",
    "Source: http://dados.ufrn.br/\n",
    "\n",
    "- Investigate the trend of hiring teachers over the years\n",
    "- Classify teachers by years worked (young or mature)"
   ]
  },
  {
   "cell_type": "markdown",
   "metadata": {},
   "source": [
    "Importing the packages\n",
    "=="
   ]
  },
  {
   "cell_type": "code",
   "execution_count": 1,
   "metadata": {},
   "outputs": [],
   "source": [
    "import pandas as pd\n",
    "import datetime\n",
    "import matplotlib.pyplot as plt\n",
    "import seaborn as sns\n",
    "\n"
   ]
  },
  {
   "cell_type": "markdown",
   "metadata": {},
   "source": [
    "Collect data\n",
    "=="
   ]
  },
  {
   "cell_type": "code",
   "execution_count": 2,
   "metadata": {
    "scrolled": false
   },
   "outputs": [
    {
     "data": {
      "text/html": [
       "<div>\n",
       "<style scoped>\n",
       "    .dataframe tbody tr th:only-of-type {\n",
       "        vertical-align: middle;\n",
       "    }\n",
       "\n",
       "    .dataframe tbody tr th {\n",
       "        vertical-align: top;\n",
       "    }\n",
       "\n",
       "    .dataframe thead th {\n",
       "        text-align: right;\n",
       "    }\n",
       "</style>\n",
       "<table border=\"1\" class=\"dataframe\">\n",
       "  <thead>\n",
       "    <tr style=\"text-align: right;\">\n",
       "      <th></th>\n",
       "      <th>id_servidor</th>\n",
       "      <th>siape</th>\n",
       "      <th>nome</th>\n",
       "      <th>categoria</th>\n",
       "      <th>cargo</th>\n",
       "      <th>tipo_jornada_trabalho</th>\n",
       "      <th>tipo_regime_juridico</th>\n",
       "      <th>situacao_servidor</th>\n",
       "      <th>classe_funcional</th>\n",
       "      <th>id_unidade</th>\n",
       "      <th>unidade</th>\n",
       "      <th>admissao</th>\n",
       "      <th>data_desligamento</th>\n",
       "    </tr>\n",
       "  </thead>\n",
       "  <tbody>\n",
       "    <tr>\n",
       "      <th>0</th>\n",
       "      <td>21511</td>\n",
       "      <td>350411</td>\n",
       "      <td>ABIATA MARTINS</td>\n",
       "      <td>Técnico Administrativo</td>\n",
       "      <td>MARCENEIRO</td>\n",
       "      <td>40 horas semanais</td>\n",
       "      <td>Estatutário</td>\n",
       "      <td>Aposentado</td>\n",
       "      <td>S                                             ...</td>\n",
       "      <td>3404</td>\n",
       "      <td>DEPARTAMENTO DE PESSOAL PENSIONISTA CIVIS</td>\n",
       "      <td>1981-10-06 00:00:00</td>\n",
       "      <td>1998-10-23</td>\n",
       "    </tr>\n",
       "    <tr>\n",
       "      <th>1</th>\n",
       "      <td>20341</td>\n",
       "      <td>349235</td>\n",
       "      <td>ABIGAIL CALDAS BATISTA GONDIM</td>\n",
       "      <td>Técnico Administrativo</td>\n",
       "      <td>ENGENHEIRO-AREA</td>\n",
       "      <td>40 horas semanais</td>\n",
       "      <td>Estatutário</td>\n",
       "      <td>Aposentado</td>\n",
       "      <td>E                                             ...</td>\n",
       "      <td>446</td>\n",
       "      <td>HOSPITAL UNIVERSITÁRIO ONOFRE LOPES</td>\n",
       "      <td>1979-04-01 00:00:00</td>\n",
       "      <td>2010-07-22</td>\n",
       "    </tr>\n",
       "    <tr>\n",
       "      <th>2</th>\n",
       "      <td>16738</td>\n",
       "      <td>345587</td>\n",
       "      <td>ABIGAIL DE ANDRADE SOUZA</td>\n",
       "      <td>Docente                       \\n</td>\n",
       "      <td>PROFESSOR DO MAGISTERIO SUPERIOR</td>\n",
       "      <td>Dedicação exclusiva</td>\n",
       "      <td>Estatutário</td>\n",
       "      <td>Aposentado</td>\n",
       "      <td>Classe C - Adjunto                            ...</td>\n",
       "      <td>9</td>\n",
       "      <td>DAP/PROGESP - DIRETORIA DE ADMINISTRACAO DE PE...</td>\n",
       "      <td>1969-10-21 00:00:00</td>\n",
       "      <td>1988-08-11</td>\n",
       "    </tr>\n",
       "    <tr>\n",
       "      <th>3</th>\n",
       "      <td>17716</td>\n",
       "      <td>346588</td>\n",
       "      <td>ABIGAIL MOURA</td>\n",
       "      <td>Docente                       \\n</td>\n",
       "      <td>PROFESSOR DO MAGISTERIO SUPERIOR</td>\n",
       "      <td>Dedicação exclusiva</td>\n",
       "      <td>Estatutário</td>\n",
       "      <td>Aposentado</td>\n",
       "      <td>Classe C - Adjunto                            ...</td>\n",
       "      <td>3404</td>\n",
       "      <td>DEPARTAMENTO DE PESSOAL PENSIONISTA CIVIS</td>\n",
       "      <td>1976-05-01 00:00:00</td>\n",
       "      <td>1996-05-10</td>\n",
       "    </tr>\n",
       "    <tr>\n",
       "      <th>4</th>\n",
       "      <td>17001</td>\n",
       "      <td>345855</td>\n",
       "      <td>ABILIO FONSECA DE SOUSA</td>\n",
       "      <td>Técnico Administrativo</td>\n",
       "      <td>ASSISTENTE EM ADMINISTRACAO</td>\n",
       "      <td>40 horas semanais</td>\n",
       "      <td>Estatutário</td>\n",
       "      <td>Aposentado</td>\n",
       "      <td>D                                             ...</td>\n",
       "      <td>4659</td>\n",
       "      <td>REITORIA</td>\n",
       "      <td>1960-06-15 00:00:00</td>\n",
       "      <td>1990-06-13</td>\n",
       "    </tr>\n",
       "  </tbody>\n",
       "</table>\n",
       "</div>"
      ],
      "text/plain": [
       "   id_servidor   siape                           nome  \\\n",
       "0        21511  350411                 ABIATA MARTINS   \n",
       "1        20341  349235  ABIGAIL CALDAS BATISTA GONDIM   \n",
       "2        16738  345587       ABIGAIL DE ANDRADE SOUZA   \n",
       "3        17716  346588                  ABIGAIL MOURA   \n",
       "4        17001  345855        ABILIO FONSECA DE SOUSA   \n",
       "\n",
       "                          categoria                                     cargo  \\\n",
       "0            Técnico Administrativo  MARCENEIRO                                 \n",
       "1            Técnico Administrativo  ENGENHEIRO-AREA                            \n",
       "2  Docente                       \\n          PROFESSOR DO MAGISTERIO SUPERIOR   \n",
       "3  Docente                       \\n          PROFESSOR DO MAGISTERIO SUPERIOR   \n",
       "4            Técnico Administrativo  ASSISTENTE EM ADMINISTRACAO                \n",
       "\n",
       "            tipo_jornada_trabalho tipo_regime_juridico situacao_servidor  \\\n",
       "0  40 horas semanais                       Estatutário        Aposentado   \n",
       "1  40 horas semanais                       Estatutário        Aposentado   \n",
       "2  Dedicação exclusiva                     Estatutário        Aposentado   \n",
       "3  Dedicação exclusiva                     Estatutário        Aposentado   \n",
       "4  40 horas semanais                       Estatutário        Aposentado   \n",
       "\n",
       "                                    classe_funcional  id_unidade  \\\n",
       "0  S                                             ...        3404   \n",
       "1  E                                             ...         446   \n",
       "2  Classe C - Adjunto                            ...           9   \n",
       "3  Classe C - Adjunto                            ...        3404   \n",
       "4  D                                             ...        4659   \n",
       "\n",
       "                                             unidade             admissao  \\\n",
       "0          DEPARTAMENTO DE PESSOAL PENSIONISTA CIVIS  1981-10-06 00:00:00   \n",
       "1                HOSPITAL UNIVERSITÁRIO ONOFRE LOPES  1979-04-01 00:00:00   \n",
       "2  DAP/PROGESP - DIRETORIA DE ADMINISTRACAO DE PE...  1969-10-21 00:00:00   \n",
       "3          DEPARTAMENTO DE PESSOAL PENSIONISTA CIVIS  1976-05-01 00:00:00   \n",
       "4                                           REITORIA  1960-06-15 00:00:00   \n",
       "\n",
       "  data_desligamento  \n",
       "0        1998-10-23  \n",
       "1        2010-07-22  \n",
       "2        1988-08-11  \n",
       "3        1996-05-10  \n",
       "4        1990-06-13  "
      ]
     },
     "execution_count": 2,
     "metadata": {},
     "output_type": "execute_result"
    }
   ],
   "source": [
    "url_faculty = 'http://bit.do/faculty_members'\n",
    "\n",
    "# create a dataframe with data of faculty members\n",
    "df_faculty = pd.read_csv(url_faculty, sep=';')\n",
    "\n",
    "# delete unnecessary columns\n",
    "# axis (0 to rows and 1 to columns)\n",
    "df_faculty.drop('Unnamed: 13',axis = 1, inplace=True)\n",
    "\n",
    "# exploratory data analysis\n",
    "df_faculty.head()\n",
    "\n"
   ]
  },
  {
   "cell_type": "markdown",
   "metadata": {},
   "source": [
    "Preparing & cleaning\n",
    "=="
   ]
  },
  {
   "cell_type": "code",
   "execution_count": 3,
   "metadata": {},
   "outputs": [
    {
     "data": {
      "text/plain": [
       "array(['Técnico Administrativo', 'Docente                       \\n'], dtype=object)"
      ]
     },
     "execution_count": 3,
     "metadata": {},
     "output_type": "execute_result"
    }
   ],
   "source": [
    "# investigating categories of faculty members\n",
    "df_faculty.categoria.unique()\n"
   ]
  },
  {
   "cell_type": "code",
   "execution_count": 4,
   "metadata": {},
   "outputs": [],
   "source": [
    "# filtering only teachers category\n",
    "df_faculty = df_faculty[df_faculty.categoria == 'Docente                       \\n']\n"
   ]
  },
  {
   "cell_type": "code",
   "execution_count": 5,
   "metadata": {},
   "outputs": [],
   "source": [
    "# calculate the number of years worked\n",
    "df_faculty['hiring_year'] = pd.to_datetime(df_faculty['admissao']).dt.year\n",
    "df_faculty['resignation_year'] = pd.to_datetime(df_faculty['data_desligamento']).dt.year\n",
    "df_faculty['years_worked'] = df_faculty['resignation_year'] - df_faculty['hiring_year']\n"
   ]
  },
  {
   "cell_type": "code",
   "execution_count": 6,
   "metadata": {},
   "outputs": [],
   "source": [
    "# calculate the number of hiring and sorting by year\n",
    "hiring = df_faculty.hiring_year.value_counts().sort_index()\n"
   ]
  },
  {
   "cell_type": "code",
   "execution_count": 7,
   "metadata": {},
   "outputs": [],
   "source": [
    "# calculate the number of resignations and sorting by year\n",
    "resignation = df_faculty.resignation_year.value_counts().sort_index()\n"
   ]
  },
  {
   "cell_type": "code",
   "execution_count": 8,
   "metadata": {},
   "outputs": [],
   "source": [
    "# create a new dataframe with information about hiring and resignation\n",
    "balance = pd.DataFrame({'Hiring': hiring, 'Resignation': resignation})\n"
   ]
  },
  {
   "cell_type": "code",
   "execution_count": 9,
   "metadata": {},
   "outputs": [],
   "source": [
    "# fill the NAN values with zeros\n",
    "balance.Resignation.fillna(0.0, inplace=True)\n"
   ]
  },
  {
   "cell_type": "code",
   "execution_count": 10,
   "metadata": {},
   "outputs": [],
   "source": [
    "# create a balance amount column\n",
    "balance['balance'] = 0.0\n"
   ]
  },
  {
   "cell_type": "code",
   "execution_count": 11,
   "metadata": {},
   "outputs": [],
   "source": [
    "aux = 0\n",
    "for i, row in balance.iterrows():\n",
    "    aux = (row.Hiring - row.Resignation) + aux\n",
    "    balance.loc[i,'balance'] = aux\n",
    "    \n",
    "    "
   ]
  },
  {
   "cell_type": "code",
   "execution_count": 12,
   "metadata": {},
   "outputs": [
    {
     "data": {
      "text/html": [
       "<div>\n",
       "<style scoped>\n",
       "    .dataframe tbody tr th:only-of-type {\n",
       "        vertical-align: middle;\n",
       "    }\n",
       "\n",
       "    .dataframe tbody tr th {\n",
       "        vertical-align: top;\n",
       "    }\n",
       "\n",
       "    .dataframe thead th {\n",
       "        text-align: right;\n",
       "    }\n",
       "</style>\n",
       "<table border=\"1\" class=\"dataframe\">\n",
       "  <thead>\n",
       "    <tr style=\"text-align: right;\">\n",
       "      <th></th>\n",
       "      <th>Hiring</th>\n",
       "      <th>Resignation</th>\n",
       "      <th>balance</th>\n",
       "    </tr>\n",
       "  </thead>\n",
       "  <tbody>\n",
       "    <tr>\n",
       "      <th>1954</th>\n",
       "      <td>3</td>\n",
       "      <td>0.0</td>\n",
       "      <td>3.0</td>\n",
       "    </tr>\n",
       "    <tr>\n",
       "      <th>1959</th>\n",
       "      <td>1</td>\n",
       "      <td>0.0</td>\n",
       "      <td>4.0</td>\n",
       "    </tr>\n",
       "    <tr>\n",
       "      <th>1961</th>\n",
       "      <td>25</td>\n",
       "      <td>0.0</td>\n",
       "      <td>29.0</td>\n",
       "    </tr>\n",
       "    <tr>\n",
       "      <th>1962</th>\n",
       "      <td>30</td>\n",
       "      <td>0.0</td>\n",
       "      <td>59.0</td>\n",
       "    </tr>\n",
       "    <tr>\n",
       "      <th>1963</th>\n",
       "      <td>2</td>\n",
       "      <td>0.0</td>\n",
       "      <td>61.0</td>\n",
       "    </tr>\n",
       "  </tbody>\n",
       "</table>\n",
       "</div>"
      ],
      "text/plain": [
       "      Hiring  Resignation  balance\n",
       "1954       3          0.0      3.0\n",
       "1959       1          0.0      4.0\n",
       "1961      25          0.0     29.0\n",
       "1962      30          0.0     59.0\n",
       "1963       2          0.0     61.0"
      ]
     },
     "execution_count": 12,
     "metadata": {},
     "output_type": "execute_result"
    }
   ],
   "source": [
    "balance.head()\n"
   ]
  },
  {
   "cell_type": "markdown",
   "metadata": {},
   "source": [
    "### Investigate the trends of hiring teachers over the years"
   ]
  },
  {
   "cell_type": "code",
   "execution_count": 13,
   "metadata": {},
   "outputs": [
    {
     "name": "stderr",
     "output_type": "stream",
     "text": [
      "/Users/ivanovitch/anaconda3/lib/python3.6/site-packages/seaborn/timeseries.py:183: UserWarning: The tsplot function is deprecated and will be removed or replaced (in a substantially altered version) in a future release.\n",
      "  warnings.warn(msg, UserWarning)\n"
     ]
    },
    {
     "data": {
      "image/png": "[encoded data removed]",
      "text/plain": [
       "<matplotlib.figure.Figure at 0x11cda6e10>"
      ]
     },
     "metadata": {},
     "output_type": "display_data"
    }
   ],
   "source": [
    "sns.set(style=\"darkgrid\")\n",
    "\n",
    "# create a timeseries figure with information about\n",
    "# the number of faculty members along the years\n",
    "ax = sns.tsplot(data=balance.balance, time=balance.index)\n",
    "\n",
    "# configure the axes\n",
    "ax.set(xlabel='Years', ylabel='Number of teaching staff')\n",
    "plt.show()\n"
   ]
  },
  {
   "cell_type": "markdown",
   "metadata": {},
   "source": [
    "### Classify teachers by age (young or mature)"
   ]
  },
  {
   "cell_type": "code",
   "execution_count": 14,
   "metadata": {},
   "outputs": [
    {
     "data": {
      "text/plain": [
       "array(['Aposentado', 'Ativo Permanente'], dtype=object)"
      ]
     },
     "execution_count": 14,
     "metadata": {},
     "output_type": "execute_result"
    }
   ],
   "source": [
    "# verify the type of faculty member\n",
    "df_faculty.situacao_servidor.unique()\n"
   ]
  },
  {
   "cell_type": "code",
   "execution_count": 15,
   "metadata": {},
   "outputs": [],
   "source": [
    "# filtering by active members\n",
    "df_faculty = df_faculty[df_faculty.situacao_servidor == 'Ativo Permanente']\n"
   ]
  },
  {
   "cell_type": "code",
   "execution_count": 16,
   "metadata": {},
   "outputs": [],
   "source": [
    "# update information about the years worked\n",
    "df_faculty.years_worked = 2017 - df_faculty.hiring_year\n"
   ]
  },
  {
   "cell_type": "code",
   "execution_count": 17,
   "metadata": {},
   "outputs": [
    {
     "data": {
      "image/png": "[encoded data removed]",
      "text/plain": [
       "<matplotlib.figure.Figure at 0x11ce9dbe0>"
      ]
     },
     "metadata": {},
     "output_type": "display_data"
    }
   ],
   "source": [
    "# create a figure\n",
    "fig, ax = plt.subplots(figsize=(10,5))\n",
    "\n",
    "# increase the size of fonts\n",
    "sns.set(font_scale=1.5)\n",
    "\n",
    "# print a histogram based on years worked by teaching staff\n",
    "sns.distplot(df_faculty.years_worked)\n",
    "\n",
    "# labels\n",
    "ax.set(xlabel='Years worked', ylabel='Probability')\n",
    "\n",
    "plt.title('Histogram based on Years Worked by teaching staff')\n",
    "plt.show()\n"
   ]
  },
  {
   "cell_type": "code",
   "execution_count": 18,
   "metadata": {},
   "outputs": [],
   "source": [
    "# remove blank spaces\n",
    "df_faculty.classe_funcional = df_faculty.classe_funcional.apply(lambda x: x.strip())\n"
   ]
  },
  {
   "cell_type": "code",
   "execution_count": 19,
   "metadata": {},
   "outputs": [
    {
     "data": {
      "text/plain": [
       "array(['Classe C - Adjunto', 'Classe E - Titular',\n",
       "       'Classe A - Assistente A', 'Classe B - Assistente', 'DV',\n",
       "       'Classe D - Associado', 'DIII', 'Classe A - Adjunto A',\n",
       "       'Classe A - Auxiliar', 'DIV', 'DI', 'DII', 'C', 'D'], dtype=object)"
      ]
     },
     "execution_count": 19,
     "metadata": {},
     "output_type": "execute_result"
    }
   ],
   "source": [
    "df_faculty.classe_funcional.unique()\n"
   ]
  },
  {
   "cell_type": "code",
   "execution_count": 20,
   "metadata": {},
   "outputs": [
    {
     "data": {
      "image/png": "[encoded data removed]",
      "text/plain": [
       "<matplotlib.figure.Figure at 0x11b624f28>"
      ]
     },
     "metadata": {},
     "output_type": "display_data"
    }
   ],
   "source": [
    "# imprimir o histograma pela classe funcional\n",
    "g = sns.countplot(df_faculty.classe_funcional)\n",
    "\n",
    "# rotacionar os labels\n",
    "g.set_xticklabels(g.get_xticklabels(),rotation=90)\n",
    "\n",
    "plt.xlabel('Current career position')\n",
    "plt.ylabel('Frequency')\n",
    "plt.show()\n"
   ]
  }
 ],
 "metadata": {
  "kernelspec": {
   "display_name": "Python 3",
   "language": "python",
   "name": "python3"
  },
  "language_info": {
   "codemirror_mode": {
    "name": "ipython",
    "version": 3
   },
   "file_extension": ".py",
   "mimetype": "text/x-python",
   "name": "python",
   "nbconvert_exporter": "python",
   "pygments_lexer": "ipython3",
   "version": "3.6.3"
  }
 },
 "nbformat": 4,
 "nbformat_minor": 2
}
